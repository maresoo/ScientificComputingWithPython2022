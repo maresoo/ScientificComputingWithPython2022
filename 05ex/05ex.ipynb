{
 "cells": [
  {
   "cell_type": "markdown",
   "metadata": {},
   "source": [
    "# Exercises of the fifth week"
   ]
  },
  {
   "cell_type": "markdown",
   "metadata": {},
   "source": [
    "## Pandas DataFrame"
   ]
  },
  {
   "cell_type": "code",
   "execution_count": 1,
   "metadata": {},
   "outputs": [],
   "source": [
    "# If haven't downloaded it yet, please get the data file with wget\n",
    "#!wget https://www.dropbox.com/s/xvjzaxzz3ysphme/data_000637.txt -P ./data/"
   ]
  },
  {
   "cell_type": "markdown",
   "metadata": {},
   "source": [
    "1\\. Create a Pandas DataFrame reading N rows of the `data/data_000637.txt` dataset. Choose N to be smaller than or equal to the maximum number of rows and larger that 10k (check the documentation)."
   ]
  },
  {
   "cell_type": "code",
   "execution_count": 2,
   "metadata": {},
   "outputs": [
    {
     "name": "stdout",
     "output_type": "stream",
     "text": [
      "Choose number of N (max 1310720): 1310720\n",
      "         HEAD  FPGA  TDC_CHANNEL   ORBIT_CNT  BX_COUNTER  TDC_MEAS\n",
      "0           1     0          123  3869200167        2374        26\n",
      "1           1     0          124  3869200167        2374        27\n",
      "2           1     0           63  3869200167        2553        28\n",
      "3           1     0           64  3869200167        2558        19\n",
      "4           1     0           64  3869200167        2760        25\n",
      "...       ...   ...          ...         ...         ...       ...\n",
      "1310715     1     0           62  3869211171         762        14\n",
      "1310716     1     1            4  3869211171         763        11\n",
      "1310717     1     0           64  3869211171         764         0\n",
      "1310718     1     0          139  3869211171         769         0\n",
      "1310719     1     0           61  3869211171         762        18\n",
      "\n",
      "[1310720 rows x 6 columns]\n"
     ]
    }
   ],
   "source": [
    "import numpy as np\n",
    "import pandas as pd\n",
    "import datetime as dt\n",
    "import matplotlib.pyplot as plt\n",
    "\n",
    "N = input(\"Choose number of N (max 1310720): \")\n",
    "\n",
    "try:\n",
    "    N = int(N)\n",
    "except:\n",
    "    print(\"Input is not an integer N.\")\n",
    "    exit()\n",
    "\n",
    "infile = \"./../data/data_000637.txt\"\n",
    "dataall = pd.read_csv(infile)\n",
    "\n",
    "if(N > 10000 and N <= dataall.shape[0]):\n",
    "    data = dataall[0:N].copy()\n",
    "    print(data)\n",
    "else:\n",
    "    print(\"Invalid N value, must be larger than 1000 and smaller or equal to \" + str(dataall.shape[0]))"
   ]
  },
  {
   "cell_type": "markdown",
   "metadata": {},
   "source": [
    "2\\. Estimate the number of BX in a ORBIT (the value `x`).\n",
    "\n",
    "*Hint*: check when the BX counter reaches the maximum value before being reset to 0."
   ]
  },
  {
   "cell_type": "code",
   "execution_count": 3,
   "metadata": {},
   "outputs": [
    {
     "name": "stdout",
     "output_type": "stream",
     "text": [
      "Minimum and maximum values of BX_COUNTER: (0, 3563)\n",
      "There are 3564 BX in an ORBIT (0-3563). \n",
      "This also can be seen by checking the number of \"bx.max()+1\" elements (considering whole dataset): \n",
      "while we have about 350 counts for BX <= 3563 (which is approximately the expectation value for a uniform distribution, = 367), suddently the count drops to 0 if we set BX >= 3564.\n",
      "\n",
      "Count of 3563: 351\n",
      "Count of 3562: 328\n",
      "Count of 3561: 385\n",
      "\n",
      "Count of 3564: 0\n",
      "Count of 3565: 0\n",
      "Count of 3566: 0\n",
      "\n"
     ]
    }
   ],
   "source": [
    "# Commenting code lines that would be necessary to make the pieces of code work singularly\n",
    "\"\"\"\n",
    "import numpy as np\n",
    "import pandas as pd\n",
    "\n",
    "infile = \"./../data/data_000637.txt\"\n",
    "dataall = pd.read_csv(infile)\n",
    "\n",
    "N = 1310720\n",
    "\n",
    "if(N > 10000 and N <= dataall.shape[0]):\n",
    "    data = dataall[0:N].copy()\n",
    "    print(data)\n",
    "else:\n",
    "    print(\"Invalid N value, must be larger than 1000 and smaller or equal to \" + str(dataall.shape[0]))\n",
    "\"\"\"\n",
    "\n",
    "bx = data[\"BX_COUNTER\"]\n",
    "print(\"Minimum and maximum values of BX_COUNTER: (\" + str(bx.min()) + \", \" + str(bx.max()) + \")\")\n",
    "print(\"There are 3564 BX in an ORBIT (0-3563). \\nThis also can be seen by checking the number of \\\"bx.max()+1\\\" elements (considering whole dataset): \\nwhile we have about 350 counts for BX <= 3563 (which is approximately the expectation value for a uniform distribution, = 367), suddently the count drops to 0 if we set BX >= 3564.\\n\")\n",
    "\n",
    "cx = bx[bx == bx.max()].copy()\n",
    "print(\"Count of \" + str(bx.max()) + \": \" + str(len(cx)))\n",
    "print(\"Count of \" + str(bx.max()-1) + \": \" + str(len(bx[bx == bx.max()-1])))\n",
    "print(\"Count of \" + str(bx.max()-2) + \": \" + str(len(bx[bx == bx.max()-2])) + \"\\n\")\n",
    "\n",
    "dx = bx[bx == bx.max()+1].copy()\n",
    "print(\"Count of \" + str(bx.max()+1) + \": \" + str(len(dx)))\n",
    "print(\"Count of \" + str(bx.max()+2) + \": \" + str(len(bx[bx == bx.max()+2])))\n",
    "print(\"Count of \" + str(bx.max()+3) + \": \" + str(len(bx[bx == bx.max()+3])) + \"\\n\")"
   ]
  },
  {
   "cell_type": "markdown",
   "metadata": {},
   "source": [
    "3\\. Create a new column with the absolute time in ns (as a combination of the other three columns with timing information) since the beginning of the data acquisition, and convert the new column to a Time Series."
   ]
  },
  {
   "cell_type": "code",
   "execution_count": 4,
   "metadata": {
    "scrolled": false
   },
   "outputs": [
    {
     "name": "stdout",
     "output_type": "stream",
     "text": [
      "Values of \"TD_MEAS\" range between (0,29), so they correspond to 30ns.\n",
      "\n",
      "         HEAD  FPGA  TDC_CHANNEL   ORBIT_CNT  BX_COUNTER  TDC_MEAS  \\\n",
      "0           1     0          123  3869200167        2374        26   \n",
      "1           1     0          124  3869200167        2374        27   \n",
      "2           1     0           63  3869200167        2553        28   \n",
      "3           1     0           64  3869200167        2558        19   \n",
      "4           1     0           64  3869200167        2760        25   \n",
      "...       ...   ...          ...         ...         ...       ...   \n",
      "1310715     1     0           62  3869211171         762        14   \n",
      "1310716     1     1            4  3869211171         763        11   \n",
      "1310717     1     0           64  3869211171         764         0   \n",
      "1310718     1     0          139  3869211171         769         0   \n",
      "1310719     1     0           61  3869211171         762        18   \n",
      "\n",
      "                 NS                          TIME  \n",
      "0                 0 1970-01-01 00:00:00.000000000  \n",
      "1                 1 1970-01-01 00:00:00.000000001  \n",
      "2              5372 1970-01-01 00:00:00.000005372  \n",
      "3              5513 1970-01-01 00:00:00.000005513  \n",
      "4             11579 1970-01-01 00:00:00.000011579  \n",
      "...             ...                           ...  \n",
      "1310715  1176499308 1970-01-01 00:00:01.176499308  \n",
      "1310716  1176499335 1970-01-01 00:00:01.176499335  \n",
      "1310717  1176499354 1970-01-01 00:00:01.176499354  \n",
      "1310718  1176499504 1970-01-01 00:00:01.176499504  \n",
      "1310719  1176499312 1970-01-01 00:00:01.176499312  \n",
      "\n",
      "[1310720 rows x 8 columns]\n"
     ]
    }
   ],
   "source": [
    "\"\"\"\n",
    "import numpy as np\n",
    "import pandas as pd\n",
    "import datetime as dt\n",
    "\n",
    "infile = \"./../data/data_000637.txt\"\n",
    "dataall = pd.read_csv(infile)\n",
    "\n",
    "N = 1310720\n",
    "\n",
    "if(N > 10000 and N <= dataall.shape[0]):\n",
    "    data = dataall[0:N].copy()\n",
    "    print(data)\n",
    "else:\n",
    "    print(\"Invalid N value, must be larger than 1000 and smaller or equal to \" + str(dataall.shape[0]))\n",
    "\"\"\"\n",
    "\n",
    "print(\"Values of \\\"TD_MEAS\\\" range between (\" + str(data[\"TDC_MEAS\"].min()) + \",\" + str(data[\"TDC_MEAS\"].max()) + \"), so they correspond to 30ns.\\n\")\n",
    "\n",
    "data[\"NS\"] = (data[\"TDC_MEAS\"] + (30 * data[\"BX_COUNTER\"]) + (30 * 3564 * data[\"ORBIT_CNT\"]))  - (data.at[data.index[0], \"TDC_MEAS\"] + (30 * data.at[data.index[0], \"BX_COUNTER\"]) + (30 * 3564 * data.at[data.index[0], \"ORBIT_CNT\"]))\n",
    "data[\"TIME\"] = pd.to_datetime(data[\"NS\"])\n",
    "# Literally converted the column, not clear if you wanted me to convert to the exact time the experiment took place (with offset) or the difference (NS column)\n",
    "\n",
    "print(data)"
   ]
  },
  {
   "cell_type": "markdown",
   "metadata": {},
   "source": [
    "4\\. Find out the duration of the data taking in hours, minutes and seconds, by using the features of the Time Series. Perform this check reading the whole dataset."
   ]
  },
  {
   "cell_type": "code",
   "execution_count": 5,
   "metadata": {},
   "outputs": [
    {
     "name": "stdout",
     "output_type": "stream",
     "text": [
      "The duration of the data taking lasted for 0 hours, 0 minutes, 1 seconds.\n",
      "More precisely, 0 days 00:00:01.176499312\n"
     ]
    }
   ],
   "source": [
    "\"\"\"\n",
    "import numpy as np\n",
    "import pandas as pd\n",
    "import datetime as dt\n",
    "\n",
    "infile = \"./../data/data_000637.txt\"\n",
    "dataall = pd.read_csv(infile)\n",
    "\n",
    "N = 1310720\n",
    "\n",
    "if(N > 10000 and N <= dataall.shape[0]):\n",
    "    data = dataall[0:N].copy()\n",
    "    print(data)\n",
    "else:\n",
    "    print(\"Invalid N value, must be larger than 1000 and smaller or equal to \" + str(dataall.shape[0]))\n",
    "\"\"\"\n",
    "\n",
    "dataall[\"NS\"] = (dataall[\"TDC_MEAS\"] + (30 * dataall[\"BX_COUNTER\"]) + (30 * 3564 * dataall[\"ORBIT_CNT\"]))  - (dataall.at[dataall.index[0], \"TDC_MEAS\"] + (30 * dataall.at[dataall.index[0], \"BX_COUNTER\"]) + (30 * 3564 * dataall.at[dataall.index[0], \"ORBIT_CNT\"]))\n",
    "dataall[\"TIME\"] = pd.to_datetime(dataall[\"NS\"])\n",
    "\n",
    "timedata = dataall.at[dataall.index[-1], \"TIME\"] - dataall.at[dataall.index[0], \"TIME\"]\n",
    "\n",
    "print(\"The duration of the data taking lasted for \" + str(dataall.at[dataall.index[-1], \"TIME\"].hour) + \" hours, \" + str(dataall.at[dataall.index[-1], \"TIME\"].minute) + \" minutes, \" + str(dataall.at[dataall.index[-1], \"TIME\"].second) + \" seconds.\")\n",
    "print(\"More precisely, \" + str(timedata))"
   ]
  },
  {
   "cell_type": "markdown",
   "metadata": {},
   "source": [
    "5\\. Use the `.groupby()` method to find out the noisy channels, i.e. the TDC channels with most counts (print to screen the top 3 and the corresponding counts)"
   ]
  },
  {
   "cell_type": "code",
   "execution_count": 6,
   "metadata": {},
   "outputs": [
    {
     "name": "stdout",
     "output_type": "stream",
     "text": [
      "The 3 TDC channel having the most entries are the following:\n",
      "\n",
      "TDC_CHANNEL\n",
      "139    108059\n",
      "64      66020\n",
      "63      64642\n",
      "Name: HEAD, dtype: int64\n"
     ]
    }
   ],
   "source": [
    "\"\"\"\n",
    "import numpy as np\n",
    "import pandas as pd\n",
    "\n",
    "infile = \"./../data/data_000637.txt\"\n",
    "dataall = pd.read_csv(infile)\n",
    "\n",
    "N = 1310720\n",
    "\n",
    "if(N > 10000 and N <= dataall.shape[0]):\n",
    "    data = dataall[0:N].copy()\n",
    "    print(data)\n",
    "else:\n",
    "    print(\"Invalid N value, must be larger than 1000 and smaller or equal to \" + str(dataall.shape[0]))\n",
    "\"\"\"\n",
    "\n",
    "ch = data.groupby(\"TDC_CHANNEL\")[\"HEAD\"].sum().sort_values(ascending = False)\n",
    "\n",
    "print(\"The 3 TDC channel having the most entries are the following:\\n\")\n",
    "print(ch.head(3))"
   ]
  },
  {
   "cell_type": "markdown",
   "metadata": {},
   "source": [
    "6\\. Count the number of non-empty orbits (i.e. the number of orbits with at least one hit)."
   ]
  },
  {
   "cell_type": "code",
   "execution_count": 7,
   "metadata": {
    "scrolled": true
   },
   "outputs": [
    {
     "name": "stdout",
     "output_type": "stream",
     "text": [
      "The number of orbits having at least one hit is 11001.\n"
     ]
    }
   ],
   "source": [
    "\"\"\"\n",
    "import numpy as np\n",
    "import pandas as pd\n",
    "\n",
    "infile = \"./../data/data_000637.txt\"\n",
    "dataall = pd.read_csv(infile)\n",
    "\n",
    "N = 1310720\n",
    "\n",
    "if(N > 10000 and N <= dataall.shape[0]):\n",
    "    data = dataall[0:N].copy()\n",
    "    print(data)\n",
    "else:\n",
    "    print(\"Invalid N value, must be larger than 1000 and smaller or equal to \" + str(dataall.shape[0]))\n",
    "\"\"\"\n",
    "\n",
    "print(\"The number of orbits having at least one hit is \" + str(len(data[\"ORBIT_CNT\"].unique())) + \".\")"
   ]
  },
  {
   "cell_type": "markdown",
   "metadata": {},
   "source": [
    "7\\. Count the number of unique orbits with at least one measurement from TDC_CHANNEL=139."
   ]
  },
  {
   "cell_type": "code",
   "execution_count": 8,
   "metadata": {},
   "outputs": [
    {
     "name": "stdout",
     "output_type": "stream",
     "text": [
      "The number of orbits having at least one hit from TDC_CHANNEL = 139 is 10976.\n"
     ]
    }
   ],
   "source": [
    "\"\"\"\n",
    "import numpy as np\n",
    "import pandas as pd\n",
    "\n",
    "infile = \"./../data/data_000637.txt\"\n",
    "dataall = pd.read_csv(infile)\n",
    "\n",
    "N = 1310720\n",
    "\n",
    "if(N > 10000 and N <= dataall.shape[0]):\n",
    "    data = dataall[0:N].copy()\n",
    "    print(data)\n",
    "else:\n",
    "    print(\"Invalid N value, must be larger than 1000 and smaller or equal to \" + str(dataall.shape[0]))\n",
    "\"\"\"\n",
    "\n",
    "print(\"The number of orbits having at least one hit from TDC_CHANNEL = 139 is \" + str(len(data[data[\"TDC_CHANNEL\"] == 139][\"ORBIT_CNT\"].unique())) + \".\")"
   ]
  },
  {
   "cell_type": "markdown",
   "metadata": {},
   "source": [
    "8\\. Create two Series (one for each FPGA) that have the TDC channel as index, and the number of counts for the corresponding TDC channel as values."
   ]
  },
  {
   "cell_type": "code",
   "execution_count": 9,
   "metadata": {
    "scrolled": false
   },
   "outputs": [
    {
     "name": "stdout",
     "output_type": "stream",
     "text": [
      "Series for FPGA = 0:\n",
      "TDC_CHANNEL\n",
      "1       1215\n",
      "2       1602\n",
      "3       1493\n",
      "4       2352\n",
      "5       1432\n",
      "       ...  \n",
      "129        2\n",
      "130       33\n",
      "137       32\n",
      "138       34\n",
      "139    75617\n",
      "Name: HEAD, Length: 124, dtype: int64\n",
      "\n",
      "Series for FPGA = 1:\n",
      "TDC_CHANNEL\n",
      "1      28438\n",
      "2      32669\n",
      "3      21970\n",
      "4      26403\n",
      "5      15003\n",
      "       ...  \n",
      "129       35\n",
      "130       38\n",
      "137       36\n",
      "138       36\n",
      "139    32442\n",
      "Name: HEAD, Length: 132, dtype: int64\n",
      "\n",
      "Type of the two objects to verify they are series:\n",
      " <class 'pandas.core.series.Series'>, <class 'pandas.core.series.Series'>\n",
      "\n",
      "If I don't need unnecessary information and I want a simple series:\n",
      "\n",
      "Series for FPGA = 0:\n",
      "1       1215\n",
      "2       1602\n",
      "3       1493\n",
      "4       2352\n",
      "5       1432\n",
      "       ...  \n",
      "129        2\n",
      "130       33\n",
      "137       32\n",
      "138       34\n",
      "139    75617\n",
      "Length: 124, dtype: int64\n",
      "\n",
      "Series for FPGA = 1:\n",
      "1      28438\n",
      "2      32669\n",
      "3      21970\n",
      "4      26403\n",
      "5      15003\n",
      "       ...  \n",
      "129       35\n",
      "130       38\n",
      "137       36\n",
      "138       36\n",
      "139    32442\n",
      "Length: 132, dtype: int64\n",
      "\n",
      "Type of the two objects to verify they are series:\n",
      " <class 'pandas.core.series.Series'>, <class 'pandas.core.series.Series'>\n",
      "\n"
     ]
    }
   ],
   "source": [
    "\"\"\"\n",
    "import numpy as np\n",
    "import pandas as pd\n",
    "\n",
    "infile = \"./../data/data_000637.txt\"\n",
    "dataall = pd.read_csv(infile)\n",
    "\n",
    "N = 1310720\n",
    "\n",
    "if(N > 10000 and N <= dataall.shape[0]):\n",
    "    data = dataall[0:N].copy()\n",
    "    print(data)\n",
    "else:\n",
    "    print(\"Invalid N value, must be larger than 1000 and smaller or equal to \" + str(dataall.shape[0]))\n",
    "\"\"\"\n",
    "\n",
    "s1 = data[data[\"FPGA\"] == 0].groupby(\"TDC_CHANNEL\")[\"HEAD\"].sum()\n",
    "s2 = data[data[\"FPGA\"] == 1].groupby(\"TDC_CHANNEL\")[\"HEAD\"].sum()\n",
    "\n",
    "print(\"Series for FPGA = 0:\\n\" + str(s1) + \"\\n\\nSeries for FPGA = 1:\\n\" + str(s2) + \"\\n\")\n",
    "print(\"Type of the two objects to verify they are series:\\n \" + str(type(s1)) + \", \" + str(type(s2)) + \"\\n\")\n",
    "\n",
    "print(\"If I don't need unnecessary information and I want a simple series:\\n\")\n",
    "\n",
    "sd1 = pd.Series(s1.to_dict())\n",
    "sd2 = pd.Series(s2.to_dict())\n",
    "\n",
    "print(\"Series for FPGA = 0:\\n\" + str(sd1) + \"\\n\\nSeries for FPGA = 1:\\n\" + str(sd2) + \"\\n\")\n",
    "print(\"Type of the two objects to verify they are series:\\n \" + str(type(sd1)) + \", \" + str(type(sd2)) + \"\\n\")"
   ]
  },
  {
   "cell_type": "markdown",
   "metadata": {},
   "source": [
    "9\\. **Optional:** Create two histograms (one for each FPGA) that show the number of counts for each TDC channel."
   ]
  },
  {
   "cell_type": "code",
   "execution_count": 11,
   "metadata": {},
   "outputs": [
    {
     "data": {
      "image/png": "[encoded data removed]",
      "text/plain": [
       "<Figure size 432x288 with 1 Axes>"
      ]
     },
     "metadata": {
      "needs_background": "light"
     },
     "output_type": "display_data"
    },
    {
     "data": {
      "image/png": "[encoded data removed]",
      "text/plain": [
       "<Figure size 432x288 with 1 Axes>"
      ]
     },
     "metadata": {
      "needs_background": "light"
     },
     "output_type": "display_data"
    }
   ],
   "source": [
    "plt.bar(list(s1.to_dict().keys()), list(s1.to_dict().values()))\n",
    "plt.show()\n",
    "\n",
    "plt.bar(list(s2.to_dict().keys()), list(s2.to_dict().values()))\n",
    "plt.show()"
   ]
  },
  {
   "cell_type": "code",
   "execution_count": null,
   "metadata": {},
   "outputs": [],
   "source": []
  },
  {
   "cell_type": "code",
   "execution_count": null,
   "metadata": {},
   "outputs": [],
   "source": []
  }
 ],
 "metadata": {
  "kernelspec": {
   "display_name": "Python 3",
   "language": "python",
   "name": "python3"
  },
  "language_info": {
   "codemirror_mode": {
    "name": "ipython",
    "version": 3
   },
   "file_extension": ".py",
   "mimetype": "text/x-python",
   "name": "python",
   "nbconvert_exporter": "python",
   "pygments_lexer": "ipython3",
   "version": "3.8.10"
  }
 },
 "nbformat": 4,
 "nbformat_minor": 2
}
