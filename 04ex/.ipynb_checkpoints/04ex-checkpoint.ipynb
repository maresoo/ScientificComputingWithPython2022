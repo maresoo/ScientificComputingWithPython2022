{
 "cells": [
  {
   "cell_type": "markdown",
   "metadata": {},
   "source": [
    "# Exercises of the fourth week"
   ]
  },
  {
   "cell_type": "markdown",
   "metadata": {},
   "source": [
    "## Reductions"
   ]
  },
  {
   "cell_type": "code",
   "execution_count": 2,
   "metadata": {},
   "outputs": [
    {
     "name": "stdout",
     "output_type": "stream",
     "text": [
      "The matrix is:\n",
      "[[ 0  1  2  3]\n",
      " [ 4  5  6  7]\n",
      " [ 8  9 10 11]]\n",
      "The total mean of the matrix elements is 5.5\n",
      "The mean for each row is [1.5 5.5 9.5]\n",
      "The mean for each column is [4. 5. 6. 7.]\n"
     ]
    }
   ],
   "source": [
    "import numpy as np\n",
    "\n",
    "m = np.arange(12).reshape((3,4))\n",
    "print(\"The matrix is:\\n\" + str(m))\n",
    "\n",
    "meantot = np.mean(m)\n",
    "meanrow = np.array([np.mean(m[i,:]) for i in range(3)])\n",
    "meancol = np.array([np.mean(m[:,i]) for i in range(4)])\n",
    "\n",
    "print(\"The total mean of the matrix elements is \" + str(meantot))\n",
    "print(\"The mean for each row is \" + str(meanrow))\n",
    "print(\"The mean for each column is \" + str(meancol))"
   ]
  },
  {
   "cell_type": "markdown",
   "metadata": {},
   "source": [
    "## Outer product"
   ]
  },
  {
   "cell_type": "code",
   "execution_count": 3,
   "metadata": {},
   "outputs": [
    {
     "name": "stdout",
     "output_type": "stream",
     "text": [
      "The 2 starting vectors are:\n",
      " u: [1 3 5 7]\n",
      " v: [2 4 6 8]\n",
      "Outer product calculated with .outer funcion:\n",
      "[[ 2  4  6  8]\n",
      " [ 6 12 18 24]\n",
      " [10 20 30 40]\n",
      " [14 28 42 56]]\n",
      "Outer product calculated with (nested) list comprehension:\n",
      "[[ 2  4  6  8]\n",
      " [ 6 12 18 24]\n",
      " [10 20 30 40]\n",
      " [14 28 42 56]]\n",
      "Outer product calculated with broadcasting:\n",
      "[[ 2  4  6  8]\n",
      " [ 6 12 18 24]\n",
      " [10 20 30 40]\n",
      " [14 28 42 56]]\n"
     ]
    }
   ],
   "source": [
    "import numpy as np\n",
    "\n",
    "u = np.array([1, 3, 5, 7])\n",
    "v = np.array([2, 4, 6, 8])\n",
    "\n",
    "m1 = np.outer(u,v)\n",
    "m2 = np.array([[u[i]*v[j] for j in range(4)] for i in range(4)])\n",
    "m3 = u.reshape([4,1]) * v\n",
    "\n",
    "print(\"The 2 starting vectors are:\")\n",
    "print(\" u: \" + str(u))\n",
    "print(\" v: \" + str(v))\n",
    "print(\"Outer product calculated with .outer funcion:\\n\" + str(m1))\n",
    "print(\"Outer product calculated with (nested) list comprehension:\\n\" + str(m2))\n",
    "print(\"Outer product calculated with broadcasting:\\n\" + str(m3))"
   ]
  },
  {
   "cell_type": "markdown",
   "metadata": {},
   "source": [
    "## Matrix masking"
   ]
  },
  {
   "cell_type": "code",
   "execution_count": 4,
   "metadata": {},
   "outputs": [
    {
     "name": "stdout",
     "output_type": "stream",
     "text": [
      "[[2.3913941  1.61605952 1.36440958 1.28539158 0.28633166 2.12168707]\n",
      " [0.17095451 0.63975242 0.77440184 1.53131466 0.18731999 2.95221483]\n",
      " [0.30179551 0.73441788 1.83831232 2.47860348 1.2649443  2.10802772]\n",
      " [2.50646554 2.63057063 0.48611293 0.31550185 1.44987483 2.97804845]\n",
      " [0.33060133 0.94579547 2.39136252 2.24556329 2.18856584 2.6297299 ]\n",
      " [2.43945386 0.97604143 0.4763895  1.35063135 0.98665539 2.26137125]\n",
      " [0.11811967 2.68048118 2.35285861 2.69009829 1.01915803 0.15935962]\n",
      " [0.84975447 0.24813651 0.31477946 2.66854648 1.70375903 2.54747915]\n",
      " [2.53656998 1.06153806 2.34921787 2.37811275 0.90285828 2.84149129]\n",
      " [0.29451612 2.13386082 2.07264942 2.76859412 0.63223869 0.42022372]] \n",
      "\n",
      "[[2.3913941  1.61605952 1.36440958 1.28539158 0.         2.12168707]\n",
      " [0.         0.63975242 0.77440184 1.53131466 0.         2.95221483]\n",
      " [0.30179551 0.73441788 1.83831232 2.47860348 1.2649443  2.10802772]\n",
      " [2.50646554 2.63057063 0.48611293 0.31550185 1.44987483 2.97804845]\n",
      " [0.33060133 0.94579547 2.39136252 2.24556329 2.18856584 2.6297299 ]\n",
      " [2.43945386 0.97604143 0.4763895  1.35063135 0.98665539 2.26137125]\n",
      " [0.         2.68048118 2.35285861 2.69009829 1.01915803 0.        ]\n",
      " [0.84975447 0.         0.31477946 2.66854648 1.70375903 2.54747915]\n",
      " [2.53656998 1.06153806 2.34921787 2.37811275 0.90285828 2.84149129]\n",
      " [0.         2.13386082 2.07264942 2.76859412 0.63223869 0.42022372]]\n"
     ]
    }
   ],
   "source": [
    "import numpy as np\n",
    "\n",
    "m = np.random.uniform(0., 3., (10,6))\n",
    "print(m, \"\\n\")\n",
    "\n",
    "m[m < 0.3] = 0.\n",
    "print(m)"
   ]
  },
  {
   "cell_type": "markdown",
   "metadata": {},
   "source": [
    "## Trigonometric functions"
   ]
  },
  {
   "cell_type": "code",
   "execution_count": 12,
   "metadata": {},
   "outputs": [
    {
     "name": "stdout",
     "output_type": "stream",
     "text": [
      "Original array:\n",
      "[0.         0.06346652 0.12693304 0.19039955 0.25386607 0.31733259\n",
      " 0.38079911 0.44426563 0.50773215 0.57119866 0.63466518 0.6981317\n",
      " 0.76159822 0.82506474 0.88853126 0.95199777 1.01546429 1.07893081\n",
      " 1.14239733 1.20586385 1.26933037 1.33279688 1.3962634  1.45972992\n",
      " 1.52319644 1.58666296 1.65012947 1.71359599 1.77706251 1.84052903\n",
      " 1.90399555 1.96746207 2.03092858 2.0943951  2.15786162 2.22132814\n",
      " 2.28479466 2.34826118 2.41172769 2.47519421 2.53866073 2.60212725\n",
      " 2.66559377 2.72906028 2.7925268  2.85599332 2.91945984 2.98292636\n",
      " 3.04639288 3.10985939 3.17332591 3.23679243 3.30025895 3.36372547\n",
      " 3.42719199 3.4906585  3.55412502 3.61759154 3.68105806 3.74452458\n",
      " 3.8079911  3.87145761 3.93492413 3.99839065 4.06185717 4.12532369\n",
      " 4.1887902  4.25225672 4.31572324 4.37918976 4.44265628 4.5061228\n",
      " 4.56958931 4.63305583 4.69652235 4.75998887 4.82345539 4.88692191\n",
      " 4.95038842 5.01385494 5.07732146 5.14078798 5.2042545  5.26772102\n",
      " 5.33118753 5.39465405 5.45812057 5.52158709 5.58505361 5.64852012\n",
      " 5.71198664 5.77545316 5.83891968 5.9023862  5.96585272 6.02931923\n",
      " 6.09278575 6.15625227 6.21971879 6.28318531]\n",
      "\n",
      "Every 10th element:\n",
      "[0.57119866 1.20586385 1.84052903 2.47519421 3.10985939 3.74452458\n",
      " 4.37918976 5.01385494 5.64852012 6.28318531]\n",
      "\n",
      "Reversed array:\n",
      "[6.28318531 6.21971879 6.15625227 6.09278575 6.02931923 5.96585272\n",
      " 5.9023862  5.83891968 5.77545316 5.71198664 5.64852012 5.58505361\n",
      " 5.52158709 5.45812057 5.39465405 5.33118753 5.26772102 5.2042545\n",
      " 5.14078798 5.07732146 5.01385494 4.95038842 4.88692191 4.82345539\n",
      " 4.75998887 4.69652235 4.63305583 4.56958931 4.5061228  4.44265628\n",
      " 4.37918976 4.31572324 4.25225672 4.1887902  4.12532369 4.06185717\n",
      " 3.99839065 3.93492413 3.87145761 3.8079911  3.74452458 3.68105806\n",
      " 3.61759154 3.55412502 3.4906585  3.42719199 3.36372547 3.30025895\n",
      " 3.23679243 3.17332591 3.10985939 3.04639288 2.98292636 2.91945984\n",
      " 2.85599332 2.7925268  2.72906028 2.66559377 2.60212725 2.53866073\n",
      " 2.47519421 2.41172769 2.34826118 2.28479466 2.22132814 2.15786162\n",
      " 2.0943951  2.03092858 1.96746207 1.90399555 1.84052903 1.77706251\n",
      " 1.71359599 1.65012947 1.58666296 1.52319644 1.45972992 1.3962634\n",
      " 1.33279688 1.26933037 1.20586385 1.14239733 1.07893081 1.01546429\n",
      " 0.95199777 0.88853126 0.82506474 0.76159822 0.6981317  0.63466518\n",
      " 0.57119866 0.50773215 0.44426563 0.38079911 0.31733259 0.25386607\n",
      " 0.19039955 0.12693304 0.06346652 0.        ]\n",
      "\n",
      "Elements such that |sin(x)-cos(x)|<0.1:\n",
      "[0.76159822 0.82506474 3.87145761 3.93492413]\n",
      "\n"
     ]
    },
    {
     "data": {
      "image/png": "[encoded data removed]",
      "text/plain": [
       "<Figure size 432x288 with 1 Axes>"
      ]
     },
     "metadata": {
      "needs_background": "light"
     },
     "output_type": "display_data"
    },
    {
     "name": "stdout",
     "output_type": "stream",
     "text": [
      "The two functions are indeed very close around the filtered region (x~0.8 and x~3.8)\n"
     ]
    }
   ],
   "source": [
    "import numpy as np\n",
    "import math as m\n",
    "import matplotlib.pyplot as plt\n",
    "\n",
    "a = np.linspace(0, 2*m.pi, 100)\n",
    "\n",
    "a10 = a[9::10]\n",
    "arev = a[::-1]\n",
    "\n",
    "mask = (abs(np.sin(a)-np.cos(a)) < 0.1)\n",
    "afil = a[mask]\n",
    "\n",
    "print(\"Original array:\")\n",
    "print(str(a) + \"\\n\")\n",
    "print(\"Every 10th element:\")\n",
    "print(str(a10) + \"\\n\")\n",
    "print(\"Reversed array:\")\n",
    "print(str(arev) + \"\\n\")\n",
    "print(\"Elements such that |sin(x)-cos(x)|<0.1:\")\n",
    "print(str(afil) + \"\\n\")\n",
    "\n",
    "plt.plot(a, np.sin(a))\n",
    "plt.plot(a, np.cos(a))\n",
    "plt.show()\n",
    "\n",
    "print(\"The two functions are indeed very close around the filtered region (x~0.8 and x~3.8)\")"
   ]
  },
  {
   "cell_type": "markdown",
   "metadata": {},
   "source": [
    "## Matrices"
   ]
  },
  {
   "cell_type": "code",
   "execution_count": 8,
   "metadata": {},
   "outputs": [
    {
     "name": "stdout",
     "output_type": "stream",
     "text": [
      "Original matrix is\n",
      "[[  1   2   3   4   5   6   7   8   9  10]\n",
      " [  2   4   6   8  10  12  14  16  18  20]\n",
      " [  3   6   9  12  15  18  21  24  27  30]\n",
      " [  4   8  12  16  20  24  28  32  36  40]\n",
      " [  5  10  15  20  25  30  35  40  45  50]\n",
      " [  6  12  18  24  30  36  42  48  54  60]\n",
      " [  7  14  21  28  35  42  49  56  63  70]\n",
      " [  8  16  24  32  40  48  56  64  72  80]\n",
      " [  9  18  27  36  45  54  63  72  81  90]\n",
      " [ 10  20  30  40  50  60  70  80  90 100]]\n",
      "\n",
      "Diagonal elements are\n",
      "[  1   4   9  16  25  36  49  64  81 100]\n",
      "Sum is 385\n",
      "\n",
      "Antidiagonal elements are\n",
      "[10 18 24 28 30 30 28 24 18 10]\n",
      "\n",
      "Offset diagonal elements are\n",
      "[ 2  6 12 20 30 42 56 72 90]\n",
      "\n"
     ]
    }
   ],
   "source": [
    "import numpy as np\n",
    "\n",
    "m = np.array([[(i+1)*(j+1) for i in range(10)] for j in range(10)])\n",
    "\n",
    "#mdiag = np.trace(m)\n",
    "inc = np.arange(0, 10, 1)\n",
    "dec = inc[::-1]\n",
    "\n",
    "mdiag = m[inc, inc]\n",
    "tr = np.sum(mdiag)\n",
    "\n",
    "manti = m[dec, inc]\n",
    "\n",
    "shiftr = np.arange(0, 9, 1)\n",
    "shiftc = np.arange(1, 10, 1)\n",
    "mshift = m[shiftr, shiftc]\n",
    "print(\"Original matrix is\\n\" + str(m) + \"\\n\")\n",
    "print(\"Diagonal elements are\\n\" + str(mdiag) + \"\\nSum is \" + str(tr) + \"\\n\")\n",
    "print(\"Antidiagonal elements are\\n\" + str(manti) + \"\\n\")\n",
    "print(\"Offset diagonal elements are\\n\" + str(mshift) + \"\\n\")"
   ]
  },
  {
   "cell_type": "markdown",
   "metadata": {},
   "source": [
    "## Broadcasting"
   ]
  },
  {
   "cell_type": "code",
   "execution_count": 11,
   "metadata": {},
   "outputs": [
    {
     "name": "stdout",
     "output_type": "stream",
     "text": [
      "Distances in miles:\n",
      "[[   0  198  303  736  871 1175 1475 1544 1913 2448]\n",
      " [ 198    0  105  538  673  977 1277 1346 1715 2250]\n",
      " [ 303  105    0  433  568  872 1172 1241 1610 2145]\n",
      " [ 736  538  433    0  135  439  739  808 1177 1712]\n",
      " [ 871  673  568  135    0  304  604  673 1042 1577]\n",
      " [1175  977  872  439  304    0  300  369  738 1273]\n",
      " [1475 1277 1172  739  604  300    0   69  438  973]\n",
      " [1544 1346 1241  808  673  369   69    0  369  904]\n",
      " [1913 1715 1610 1177 1042  738  438  369    0  535]\n",
      " [2448 2250 2145 1712 1577 1273  973  904  535    0]]\n",
      "\n",
      "Distances in kilometers:\n",
      "[[   0.    318.65  487.63 1184.48 1401.74 1890.98 2373.78 2484.83 3078.68\n",
      "  3939.67]\n",
      " [ 318.65    0.    168.98  865.83 1083.09 1572.33 2055.13 2166.18 2760.02\n",
      "  3621.02]\n",
      " [ 487.63  168.98    0.    696.85  914.11 1403.35 1886.15 1997.2  2591.04\n",
      "  3452.04]\n",
      " [1184.48  865.83  696.85    0.    217.26  706.5  1189.31 1300.35 1894.2\n",
      "  2755.2 ]\n",
      " [1401.74 1083.09  914.11  217.26    0.    489.24  972.04 1083.09 1676.94\n",
      "  2537.94]\n",
      " [1890.98 1572.33 1403.35  706.5   489.24    0.    482.8   593.85 1187.7\n",
      "  2048.69]\n",
      " [2373.78 2055.13 1886.15 1189.31  972.04  482.8     0.    111.04  704.89\n",
      "  1565.89]\n",
      " [2484.83 2166.18 1997.2  1300.35 1083.09  593.85  111.04    0.    593.85\n",
      "  1454.85]\n",
      " [3078.68 2760.02 2591.04 1894.2  1676.94 1187.7   704.89  593.85    0.\n",
      "   861.  ]\n",
      " [3939.67 3621.02 3452.04 2755.2  2537.94 2048.69 1565.89 1454.85  861.\n",
      "     0.  ]]\n",
      "\n"
     ]
    }
   ],
   "source": [
    "import numpy as np\n",
    "\n",
    "a = np.array([0, 198, 303, 736, 871, 1175, 1475, 1544, 1913, 2448])\n",
    "b = np.array([0, 198, 303, 736, 871, 1175, 1475, 1544, 1913, 2448])\n",
    "\n",
    "m = np.array([[abs(a[i]-b[j]) for j in range(10)] for i in range(10)])\n",
    "n = np.around(m*1.609344, decimals=2)\n",
    "\n",
    "print(\"Distances in miles:\")\n",
    "print(str(m) + \"\\n\")\n",
    "print(\"Distances in kilometers:\")\n",
    "print(str(n) + \"\\n\")"
   ]
  },
  {
   "cell_type": "markdown",
   "metadata": {},
   "source": [
    "# Prime numbers sieve"
   ]
  },
  {
   "cell_type": "code",
   "execution_count": 3,
   "metadata": {},
   "outputs": [
    {
     "name": "stdout",
     "output_type": "stream",
     "text": [
      "Insert integer N: 1000\n",
      "Choose computation method (non-optimised: \"n\", Eratosthenes: \"e\"): e\n",
      "List of prime numbers up to N:\n",
      "[  2   3   5   7  11  13  17  19  23  29  31  37  41  43  47  53  59  61\n",
      "  67  71  73  79  83  89  97 101 103 107 109 113 127 131 137 139 149 151\n",
      " 157 163 167 173 179 181 191 193 197 199 211 223 227 229 233 239 241 251\n",
      " 257 263 269 271 277 281 283 293 307 311 313 317 331 337 347 349 353 359\n",
      " 367 373 379 383 389 397 401 409 419 421 431 433 439 443 449 457 461 463\n",
      " 467 479 487 491 499 503 509 521 523 541 547 557 563 569 571 577 587 593\n",
      " 599 601 607 613 617 619 631 641 643 647 653 659 661 673 677 683 691 701\n",
      " 709 719 727 733 739 743 751 757 761 769 773 787 797 809 811 821 823 827\n",
      " 829 839 853 857 859 863 877 881 883 887 907 911 919 929 937 941 947 953\n",
      " 967 971 977 983 991 997]\n",
      "\n",
      "Measure computational time? (y/n): y\n",
      " *The program has to re-execute the function to measure the computation time.\n",
      "  Please wait...\n",
      "\n",
      "Computational time (Eratosthenes): 0.007431 seconds\n",
      "\n",
      " Considering the Eratosthenes optimised method, the program is not looping over every single number to determine the multiples, but only over the prime numbers.\n",
      " Therefore (at large values of N) the proportionality should not be N x N^(1/2) anymore, but instead N x k x N^(1/2), where k is the fraction of prime numbers up to the number N (so k is not a constant). This should result in a relation of the type kN^(3/2) with k<1.\n",
      " In reality I do not obtain an exact proportionality with kN^(3/2), but a function that rises slightly slower (resulting in a calculation which is faster than expectations).\n",
      "\n",
      "Fraction of prime numbers up to N: 0.168\n",
      "Ratio computational time/kN^(3/2): 1.399e-06\n"
     ]
    }
   ],
   "source": [
    "import numpy as np\n",
    "import math as m\n",
    "import timeit as t\n",
    "\n",
    "def prime(N):\n",
    "\ta = np.arange(0, N)\n",
    "\tmask = np.full((N,), True)\n",
    "\tfor i in range(m.ceil(m.sqrt(N))): # Up to sqrt(N) to avoid redundancy\n",
    "\t\tif i < 2:\n",
    "\t\t\tmask[i] = False\n",
    "\t\telif i >= 2:\n",
    "\t\t\tfor j in a:\n",
    "\t\t\t\tif a[j] % i == 0 and a[j] != i: # Multiples of n == x%n = 0\n",
    "\t\t\t\t\tmask[j] = False\n",
    "\tafil = a[mask]\n",
    "\treturn afil\n",
    "\n",
    "def eratosthenes(N):\n",
    "\ta = np.arange(0, N)\n",
    "\tmask = np.full((N,), True)\n",
    "\tfor i in range(m.ceil(m.sqrt(N))): # Up to sqrt(N) to avoid redundancy\n",
    "\t\tif i < 2:\n",
    "\t\t\tmask[i] = False\n",
    "\t\telif i >= 2:\n",
    "\t\t\tif mask[i] == True: # Eratosthenes optimisation, not over every number\n",
    "\t\t\t\tfor j in a:\n",
    "\t\t\t\t\tif a[j] % i == 0 and a[j] != i: # Multiples of n == x%n = 0\n",
    "\t\t\t\t\t\tmask[j] = False\n",
    "\tafil = a[mask]\n",
    "\treturn afil\n",
    "\n",
    "\n",
    "# Input + Check\n",
    "n = input(\"Insert integer N: \")\n",
    "\n",
    "try:\n",
    "\tn = int(n)\n",
    "except:\n",
    "\tprint(\"N is not an integer.\")\n",
    "\texit()\n",
    "\n",
    "# Choose computation method\n",
    "meth = input(\"Choose computation method (non-optimised: \\\"n\\\", Eratosthenes: \\\"e\\\"): \")\n",
    "\n",
    "if meth.lower() == (\"n\"):\n",
    "\n",
    "\t# Function call\n",
    "\tpr = prime(n)\n",
    "\t\n",
    "\tprint(\"List of prime numbers up to N:\")\n",
    "\tprint(str(pr) + \"\\n\")\n",
    "\t\n",
    "\tproceed = input(\"Measure computational time? (y/n): \")\n",
    "\t\n",
    "\tif proceed.lower() == (\"y\" or \"yes\"):\n",
    "\t\n",
    "\t\tprint(\" *The program has to re-execute the function to measure the computation time.\\n  Please wait...\\n\")\n",
    "\t\ttimep = format(t.timeit(lambda: prime(n), number = 1), \".6f\")\n",
    "\t\n",
    "\t\tprint(\"Computational time (non-optimised): \" + timep + \" seconds\")\n",
    "\t\tprint(\"\\n Considering the non-optimised method, at low N the iteration time over the loops is still comparable with the array initialisation time and effects of fluctuations are still relevant, so it has an erratic behaviour.\")\n",
    "\t\tprint(\" In theory at increasing N value the computational time should be proportional to the product of the 2 ranges the program is looping over since it's the dominant process in the program. Therefore it should be approximately proportional to N^(3/2) (N x N^(1/2)).\")\n",
    "\t\tprint(\" In reality I do not obtain an exact proportionality with N^(3/2), but a function that rises slightly slower (resulting in a calculation which is faster than expectations).\\n\")\n",
    "\t\t\n",
    "\t\tprint(\"Ratio computational time/N^(3/2): \" + str(format(float(timep)/(n**(3/2)), \".4g\")))\n",
    "\t\t# Actually I did have good proportionality relation before adding the eratosthenes part of the code, since I basically obtained values of the ratios which changed within 10% over an order of magnitude. Now it is not as constant, since it keeps going down faster increasing N. Does it have anything to do with memory management? By the way I tried using N = 100, 1000, 10000, 100000, 1000000\n",
    "\t\n",
    "\telif proceed.lower() == (\"n\" or \"no\"):\n",
    "\t\texit()\n",
    "\t\n",
    "\telse:\n",
    "\t\tprint(\"I take that as a no.\")\n",
    "\t\texit()\n",
    "\n",
    "elif meth.lower() == (\"e\"):\n",
    "\n",
    "\t# Function call\n",
    "\tpr = eratosthenes(n)\n",
    "\t\n",
    "\tprint(\"List of prime numbers up to N:\")\n",
    "\tprint(str(pr) + \"\\n\")\n",
    "\t\n",
    "\tproceed = input(\"Measure computational time? (y/n): \")\n",
    "\t\n",
    "\tif proceed.lower() == (\"y\" or \"yes\"):\n",
    "\t\n",
    "\t\tprint(\" *The program has to re-execute the function to measure the computation time.\\n  Please wait...\\n\")\n",
    "\t\ttimee = format(t.timeit(lambda: eratosthenes(n), number = 1), \".6f\")\n",
    "\t\n",
    "\t\tprint(\"Computational time (Eratosthenes): \" + timee + \" seconds\")\n",
    "\t\tprint(\"\\n Considering the Eratosthenes optimised method, the program is not looping over every single number to determine the multiples, but only over the prime numbers.\")\n",
    "\t\tprint(\" Therefore (at large values of N) the proportionality should not be N x N^(1/2) anymore, but instead N x k x N^(1/2), where k is the fraction of prime numbers up to the number N (so k is not a constant). This should result in a relation of the type kN^(3/2) with k<1.\")\n",
    "\t\tprint(\" In reality I do not obtain an exact proportionality with kN^(3/2), but a function that rises slightly slower (resulting in a calculation which is faster than expectations).\\n\")\n",
    "\t\t\n",
    "\t\t# Comparing the behaviour of the Eratosthenes ratio for increasing N value with the behaviour of the non-optimised ratio they look very similar, since they are reduced by about a factor 2 for every order of magnitude, except for the 10^6 to 10^7 step where they both suddently don't reduce as much. So either this behaviour is related to the same mechanism in the algorithm or I am simply making a big mistake somewhere which affects both the functions.\n",
    "\t\t\n",
    "\t\tk = len(list(pr))/n\n",
    "\t\tprint(\"Fraction of prime numbers up to N: \" + str(k))\n",
    "\t\tprint(\"Ratio computational time/kN^(3/2): \" + str(format(float(timee)/(k*n**(3/2)), \".4g\")))\n",
    "\t\n",
    "\telif proceed.lower() == (\"n\" or \"no\"):\n",
    "\t\texit()\n",
    "\t\n",
    "\telse:\n",
    "\t\tprint(\"I take that as a no.\")\n",
    "\t\texit()\n",
    "\n",
    "else:\n",
    "\tprint(\"Invalid input.\")\n",
    "\texit()"
   ]
  },
  {
   "cell_type": "markdown",
   "metadata": {},
   "source": [
    "## Diffusion using random walk"
   ]
  },
  {
   "cell_type": "code",
   "execution_count": 1,
   "metadata": {},
   "outputs": [
    {
     "name": "stdout",
     "output_type": "stream",
     "text": [
      "Walking distances (signed distance from starting point) for each walker:\n",
      "[-12  30 -12  -2   2  24   6  -8 -20   0  -4  22   0 -12  -6   4 -22  12\n",
      "  -8   0   2   6 -10 -10 -24   0   2  16  16   0 -10 -18  -2 -12 -38   6\n",
      " -18 -16  22 -16   4  12 -16   4 -32   0   2  -4  -8 -18   0  18 -14   8\n",
      " -20  16   4  28 -18  -4  30  12  -6  -6  -4  26  10 -38  14  20  -4   8\n",
      "   0 -22  22 -12   8  38  12  14   2  18   8  -8   6 -46  36 -10   8 -26\n",
      "  -6   6   4 -16  -2 -18  -6 -10   8  -6 -14   6   6 -16   8  10   2  20\n",
      "  24  16  -6 -10  40   8 -12  -6  -4   2   4   4   4 -20  -6  -6  52  30\n",
      "  10 -14  10   0  18  14 -28  22   4  30 -10  20   8  -6   0   2  16 -22\n",
      "  -2 -14  30 -14   0 -12  -8   0  26   6  14  -6  14   6   6  16  14 -14\n",
      "   6  -2   2 -24   0   0  -4  -4   0  10  14  -2  16  10 -18 -14 -24  18\n",
      "   6   2  10  -8   6   0 -18  -6  -4  14 -38   2  -4  16 -22  -4 -28  10\n",
      "  -8  -6   2  14   0 -14  16  -2 -12 -22 -10  -8  -4   6  10  -6  -4 -10\n",
      "   2  -8   0  -2  12 -20 -22  16 -14  20   8 -16 -10 -18  -4  26  -8   4\n",
      " -10  12  -8   2   4  10 -14  10   2  -8   6   2  10 -14  20 -18  24   0\n",
      "  18   2   4   8   2 -36  10   2  -8  -6  12   0   2  12  -6 -10   8 -26\n",
      "  22  24   6  -2   2  10   2 -16   8  20   4  -8 -18  18  16 -32  18  -4\n",
      "  10 -30  -4  -8   2  16  18 -20 -18 -20   4  -4   4   2 -14 -12 -22 -18\n",
      " -10   4 -10  -8   8  -4 -24 -16   6   6   8 -16  -6  14  -2  10 -14   2\n",
      "  20 -12  14   8  18 -16 -28   6   0  12  -8   8 -12  28  20 -24   6 -20\n",
      "  -8   6   0   0   0  -4   2 -10 -20   0  -6  20   0 -20 -28   2  10   8\n",
      "  -4   2   2   8 -10   6 -14  32  -6  30 -10  -6 -34   0  -8   2   2   4\n",
      "  -4  14   4  16   6  16 -16   6  10  -6  18   0 -12  16  10  -2  -6  32\n",
      "  -2   0   2  -8 -54   6  10   2  34 -10   8  10  12  -6   6  -2  -4  -2\n",
      "   0 -20   8 -10  30  -4   0  12  -6 -22  24  28  26  -4 -18  14   2  -2\n",
      "  -2  12  -8   8  20   0  24  16 -32  26 -20   0  12  32   8 -28  -4 -18\n",
      "  10  -2  -6  14   6 -12  -8   2  -2 -10  26   8  -8   2 -18  24  18  14\n",
      "  14  14  12  -2   0 -26  18  10   6 -22  -8   6  -4  -6  10  16 -20   2\n",
      "   4   4   2  -6  -8  22  24  36  12  14   2 -10   0  18  14   6   8  -2\n",
      "   8  14 -24  -4   0  10  22 -10  20  -4 -10  -8 -26 -22 -16  -4 -12  28\n",
      "  -6  14  12   8   8  14  -4  -6  -2   6  12 -18  20  -2  10 -26   2  18\n",
      "   4  -2  -2  30 -16   2  -8   4 -14   6  16  -2 -20 -12  -6  16  16   6\n",
      "   4  -4  10   8 -10 -22  26  18  14  26  -4 -14  -8  22 -10  -6  20  10\n",
      "  -6   0  14 -12  12 -16  30   6  -2 -14 -20  10  -8 -10  -4  -8 -10  28\n",
      " -10 -16  30   2   8 -18   0  -6  -4   4 -10  10   4   0  14  14   8  18\n",
      "  12  -8  16   2 -10  28   2  22  24  38 -18   6   8   4   2  14 -44   6\n",
      "  -4  26   2 -14  22 -28   4 -20  -6 -12  12   0   8 -14 -14 -26   8 -24\n",
      "  22   4   0  20 -10  -4   6  36  24 -20  -2  -2 -18 -14  -6 -14  -6  -2\n",
      "   2   0 -10  -8  12  -4  -4  -8  28  -8  -6  20  14 -24   4 -14  10  28\n",
      "   2 -18 -10   4  16   6  12 -32  28  14  -4  20  14   6  -2  22 -34  -2\n",
      "  -6  10  -2 -18  34  -4 -14   2 -10  -4 -18 -18  14 -34 -24  -2  -6 -14\n",
      "  -4 -26  14 -18 -14  20   8  -6  -6 -10   0 -18  12 -18  -6 -10   2  -4\n",
      " -10 -40  10   2 -26 -24 -10  -2  10  -6   4  18 -16 -10 -10   6  28  12\n",
      " -30 -10 -18  -8 -12  -8 -34  22 -20  -8 -12 -26   8  -4 -32  -4   4  10\n",
      "  -4  -8 -22   2   4   6  -4   2  -6 -12  24  14  -6 -10 -14 -16  20   8\n",
      "  -4  20 -16 -18  20   0 -24  14  30   4  18   8   2   2  10   6  16   8\n",
      "  -8  14 -10  30   6   6   6  -2  -2  -6  -8   6  -8  -4  38  -2   8   4\n",
      "  -2  16  14  -4  20  -4  14  -4   2 -20   2  10  10 -10   8 -16 -22 -52\n",
      " -18   2  18 -22 -10   4  -2  10  -8  -2  -8 -10  14 -20   6 -26 -18 -18\n",
      "   6 -10  -2   0  16  34 -28  -6 -18  10  -4   4  16   6  18   0   4 -12\n",
      "  -4   4   4  10 -12  18  10 -10  16 -16  16  10  -2  -4  10   0 -28   2\n",
      "   6 -22 -12 -14   2 -16  30 -14  12 -20 -14 -20   0 -24   4 -24  -8 -42\n",
      "  22 -24  20   6 -16 -24  10  28  -6   0   0   2   2  -8   4  12 -16   0\n",
      " -10  -6   2 -12  12   0 -24   6   4  -6  20   2  16 -12 -10  14  -6   6\n",
      "  16  12 -28  -8 -16  10  -8  -6  20   8   4  -4   8  28  18  -4 -24   4\n",
      "   6 -26  -4  18   4   6  -2  18  -6  12 -16  -6 -18  18  12  12  14  -2\n",
      "  -8  -8  -4 -18  20  10 -24 -24  14  18]\n",
      "\n",
      "Mean of squared distances of the walkers at each step:\n",
      "[  1.      2.008   3.096   4.232   5.136   6.06    6.928   7.744   8.976\n",
      "   9.8    10.984  11.6    12.92   13.38   13.896  14.912  15.992  16.796\n",
      "  17.432  18.572  19.672  20.404  21.264  21.6    22.536  23.08   23.968\n",
      "  24.628  25.2    25.488  26.472  27.424  28.6    30.136  31.112  32.528\n",
      "  33.984  35.056  36.392  36.788  37.648  39.28   40.672  41.312  43.128\n",
      "  43.716  44.456  44.688  45.336  46.156  46.68   47.532  48.504  49.352\n",
      "  49.888  51.608  52.624  53.052  53.912  55.356  56.44   57.34   57.52\n",
      "  58.704  60.632  61.804  62.504  63.604  65.728  67.356  68.912  70.308\n",
      "  70.784  72.348  73.656  74.708  75.568  76.972  77.952  78.84   80.296\n",
      "  80.112  81.552  82.188  82.864  84.552  86.44   88.2    89.272  90.904\n",
      "  91.48   91.752  93.256  94.58   96.72   97.896  98.896  99.368 101.24\n",
      " 102.332 102.472 104.088 104.744 105.508 105.96  107.38  108.32  108.692\n",
      " 109.784 110.156 111.256 113.028 113.464 115.64  117.032 117.56  119.2\n",
      " 122.14  122.896 124.896 126.224 127.176 129.224 130.336 131.784 132.548\n",
      " 133.832 135.736 137.576 138.692 140.576 141.884 143.488 144.092 145.416\n",
      " 146.268 147.584 149.024 149.376 150.032 149.512 148.968 150.128 150.864\n",
      " 151.928 152.436 153.536 154.804 156.04  157.048 159.168 160.736 161.984\n",
      " 163.544 165.528 166.028 166.8   168.86  170.888 173.312 174.8   176.016\n",
      " 177.28  178.652 180.464 182.096 182.416 182.144 182.28  182.332 183.36\n",
      " 185.008 186.76  186.444 187.704 189.504 189.888 190.752 192.528 194.412\n",
      " 195.672 196.348 198.248 201.164 201.72  203.472 203.784 204.064 205.936\n",
      " 207.212 207.6   209.284 209.84  212.256 212.568 212.16  213.832 216.02\n",
      " 217.112 217.832]\n",
      "\n",
      "Plot shows the average distance of the walker in function of the number of steps\n"
     ]
    },
    {
     "data": {
      "image/png": "[encoded data removed]",
      "text/plain": [
       "<Figure size 432x288 with 1 Axes>"
      ]
     },
     "metadata": {
      "needs_background": "light"
     },
     "output_type": "display_data"
    }
   ],
   "source": [
    "import numpy as np\n",
    "import matplotlib.pyplot as plt\n",
    "\n",
    "# Generate uniform 1000x200 matrix of 0 and 1\n",
    "m = np.random.randint(0, 2, size=(1000, 200))\n",
    "\n",
    "# Change the 0s to -1\n",
    "m[m == 0] = -1\n",
    "\n",
    "# Initialising some arrays\n",
    "p = np.zeros((1000,200), dtype=int) # Cumulative movement matrix\n",
    "p2 = np.zeros((1000,200), dtype=int) # Cumulative movement squared matrix\n",
    "progress = np.zeros(1000, dtype=int) # Auxiliary vector to fill p column by column\n",
    "\n",
    "# Filling p using progress\n",
    "for i in range(200):\n",
    "\tprogress += m[:,i]\n",
    "\tp[:,i] = progress\n",
    "\n",
    "print(\"Walking distances (signed distance from starting point) for each walker:\")\n",
    "print(p[:,199])\n",
    "\n",
    "p2 = p**2\n",
    "distance2 = np.mean(p2, axis=0)\n",
    "\n",
    "print(\"\\nMean of squared distances of the walkers at each step:\")\n",
    "print(distance2)\n",
    "\n",
    "distance = np.sqrt(distance2)\n",
    "distance = np.concatenate([[0],distance])\n",
    "x = np.linspace(0, 200, 201)\n",
    "\n",
    "print(\"\\nPlot shows the average distance of the walker in function of the number of steps\")\n",
    "plt.plot(x, distance)\n",
    "plt.show()"
   ]
  },
  {
   "cell_type": "code",
   "execution_count": null,
   "metadata": {},
   "outputs": [],
   "source": []
  }
 ],
 "metadata": {
  "kernelspec": {
   "display_name": "Python 3",
   "language": "python",
   "name": "python3"
  },
  "language_info": {
   "codemirror_mode": {
    "name": "ipython",
    "version": 3
   },
   "file_extension": ".py",
   "mimetype": "text/x-python",
   "name": "python",
   "nbconvert_exporter": "python",
   "pygments_lexer": "ipython3",
   "version": "3.8.10"
  }
 },
 "nbformat": 4,
 "nbformat_minor": 4
}
