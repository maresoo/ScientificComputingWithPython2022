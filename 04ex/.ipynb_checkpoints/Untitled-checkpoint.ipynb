{
 "cells": [
  {
   "cell_type": "markdown",
   "metadata": {},
   "source": [
    "# Exercises of the fourth week"
   ]
  },
  {
   "cell_type": "markdown",
   "metadata": {},
   "source": [
    "## Reductions"
   ]
  },
  {
   "cell_type": "code",
   "execution_count": 2,
   "metadata": {},
   "outputs": [
    {
     "name": "stdout",
     "output_type": "stream",
     "text": [
      "The matrix is:\n",
      "[[ 0  1  2  3]\n",
      " [ 4  5  6  7]\n",
      " [ 8  9 10 11]]\n",
      "The total mean of the matrix elements is 5.5\n",
      "The mean for each row is [1.5 5.5 9.5]\n",
      "The mean for each column is [4. 5. 6. 7.]\n"
     ]
    }
   ],
   "source": [
    "import numpy as np\n",
    "\n",
    "m = np.arange(12).reshape((3,4))\n",
    "print(\"The matrix is:\\n\" + str(m))\n",
    "\n",
    "meantot = np.mean(m)\n",
    "meanrow = np.array([np.mean(m[i,:]) for i in range(3)])\n",
    "meancol = np.array([np.mean(m[:,i]) for i in range(4)])\n",
    "\n",
    "print(\"The total mean of the matrix elements is \" + str(meantot))\n",
    "print(\"The mean for each row is \" + str(meanrow))\n",
    "print(\"The mean for each column is \" + str(meancol))"
   ]
  },
  {
   "cell_type": "markdown",
   "metadata": {},
   "source": [
    "## Outer product"
   ]
  },
  {
   "cell_type": "code",
   "execution_count": 3,
   "metadata": {},
   "outputs": [
    {
     "name": "stdout",
     "output_type": "stream",
     "text": [
      "The 2 starting vectors are:\n",
      " u: [1 3 5 7]\n",
      " v: [2 4 6 8]\n",
      "Outer product calculated with .outer funcion:\n",
      "[[ 2  4  6  8]\n",
      " [ 6 12 18 24]\n",
      " [10 20 30 40]\n",
      " [14 28 42 56]]\n",
      "Outer product calculated with (nested) list comprehension:\n",
      "[[ 2  4  6  8]\n",
      " [ 6 12 18 24]\n",
      " [10 20 30 40]\n",
      " [14 28 42 56]]\n",
      "Outer product calculated with broadcasting:\n",
      "[[ 2  4  6  8]\n",
      " [ 6 12 18 24]\n",
      " [10 20 30 40]\n",
      " [14 28 42 56]]\n"
     ]
    }
   ],
   "source": [
    "import numpy as np\n",
    "\n",
    "u = np.array([1, 3, 5, 7])\n",
    "v = np.array([2, 4, 6, 8])\n",
    "\n",
    "m1 = np.outer(u,v)\n",
    "m2 = np.array([[u[i]*v[j] for j in range(4)] for i in range(4)])\n",
    "m3 = u.reshape([4,1]) * v\n",
    "\n",
    "print(\"The 2 starting vectors are:\")\n",
    "print(\" u: \" + str(u))\n",
    "print(\" v: \" + str(v))\n",
    "print(\"Outer product calculated with .outer funcion:\\n\" + str(m1))\n",
    "print(\"Outer product calculated with (nested) list comprehension:\\n\" + str(m2))\n",
    "print(\"Outer product calculated with broadcasting:\\n\" + str(m3))"
   ]
  },
  {
   "cell_type": "markdown",
   "metadata": {},
   "source": [
    "## Matrix masking"
   ]
  },
  {
   "cell_type": "code",
   "execution_count": 4,
   "metadata": {},
   "outputs": [
    {
     "name": "stdout",
     "output_type": "stream",
     "text": [
      "[[2.3913941  1.61605952 1.36440958 1.28539158 0.28633166 2.12168707]\n",
      " [0.17095451 0.63975242 0.77440184 1.53131466 0.18731999 2.95221483]\n",
      " [0.30179551 0.73441788 1.83831232 2.47860348 1.2649443  2.10802772]\n",
      " [2.50646554 2.63057063 0.48611293 0.31550185 1.44987483 2.97804845]\n",
      " [0.33060133 0.94579547 2.39136252 2.24556329 2.18856584 2.6297299 ]\n",
      " [2.43945386 0.97604143 0.4763895  1.35063135 0.98665539 2.26137125]\n",
      " [0.11811967 2.68048118 2.35285861 2.69009829 1.01915803 0.15935962]\n",
      " [0.84975447 0.24813651 0.31477946 2.66854648 1.70375903 2.54747915]\n",
      " [2.53656998 1.06153806 2.34921787 2.37811275 0.90285828 2.84149129]\n",
      " [0.29451612 2.13386082 2.07264942 2.76859412 0.63223869 0.42022372]] \n",
      "\n",
      "[[2.3913941  1.61605952 1.36440958 1.28539158 0.         2.12168707]\n",
      " [0.         0.63975242 0.77440184 1.53131466 0.         2.95221483]\n",
      " [0.30179551 0.73441788 1.83831232 2.47860348 1.2649443  2.10802772]\n",
      " [2.50646554 2.63057063 0.48611293 0.31550185 1.44987483 2.97804845]\n",
      " [0.33060133 0.94579547 2.39136252 2.24556329 2.18856584 2.6297299 ]\n",
      " [2.43945386 0.97604143 0.4763895  1.35063135 0.98665539 2.26137125]\n",
      " [0.         2.68048118 2.35285861 2.69009829 1.01915803 0.        ]\n",
      " [0.84975447 0.         0.31477946 2.66854648 1.70375903 2.54747915]\n",
      " [2.53656998 1.06153806 2.34921787 2.37811275 0.90285828 2.84149129]\n",
      " [0.         2.13386082 2.07264942 2.76859412 0.63223869 0.42022372]]\n"
     ]
    }
   ],
   "source": [
    "import numpy as np\n",
    "\n",
    "m = np.random.uniform(0., 3., (10,6))\n",
    "print(m, \"\\n\")\n",
    "\n",
    "m[m < 0.3] = 0.\n",
    "print(m)"
   ]
  },
  {
   "cell_type": "markdown",
   "metadata": {},
   "source": [
    "## Trigonometric functions"
   ]
  },
  {
   "cell_type": "code",
   "execution_count": 12,
   "metadata": {},
   "outputs": [
    {
     "name": "stdout",
     "output_type": "stream",
     "text": [
      "Original array:\n",
      "[0.         0.06346652 0.12693304 0.19039955 0.25386607 0.31733259\n",
      " 0.38079911 0.44426563 0.50773215 0.57119866 0.63466518 0.6981317\n",
      " 0.76159822 0.82506474 0.88853126 0.95199777 1.01546429 1.07893081\n",
      " 1.14239733 1.20586385 1.26933037 1.33279688 1.3962634  1.45972992\n",
      " 1.52319644 1.58666296 1.65012947 1.71359599 1.77706251 1.84052903\n",
      " 1.90399555 1.96746207 2.03092858 2.0943951  2.15786162 2.22132814\n",
      " 2.28479466 2.34826118 2.41172769 2.47519421 2.53866073 2.60212725\n",
      " 2.66559377 2.72906028 2.7925268  2.85599332 2.91945984 2.98292636\n",
      " 3.04639288 3.10985939 3.17332591 3.23679243 3.30025895 3.36372547\n",
      " 3.42719199 3.4906585  3.55412502 3.61759154 3.68105806 3.74452458\n",
      " 3.8079911  3.87145761 3.93492413 3.99839065 4.06185717 4.12532369\n",
      " 4.1887902  4.25225672 4.31572324 4.37918976 4.44265628 4.5061228\n",
      " 4.56958931 4.63305583 4.69652235 4.75998887 4.82345539 4.88692191\n",
      " 4.95038842 5.01385494 5.07732146 5.14078798 5.2042545  5.26772102\n",
      " 5.33118753 5.39465405 5.45812057 5.52158709 5.58505361 5.64852012\n",
      " 5.71198664 5.77545316 5.83891968 5.9023862  5.96585272 6.02931923\n",
      " 6.09278575 6.15625227 6.21971879 6.28318531]\n",
      "\n",
      "Every 10th element:\n",
      "[0.57119866 1.20586385 1.84052903 2.47519421 3.10985939 3.74452458\n",
      " 4.37918976 5.01385494 5.64852012 6.28318531]\n",
      "\n",
      "Reversed array:\n",
      "[6.28318531 6.21971879 6.15625227 6.09278575 6.02931923 5.96585272\n",
      " 5.9023862  5.83891968 5.77545316 5.71198664 5.64852012 5.58505361\n",
      " 5.52158709 5.45812057 5.39465405 5.33118753 5.26772102 5.2042545\n",
      " 5.14078798 5.07732146 5.01385494 4.95038842 4.88692191 4.82345539\n",
      " 4.75998887 4.69652235 4.63305583 4.56958931 4.5061228  4.44265628\n",
      " 4.37918976 4.31572324 4.25225672 4.1887902  4.12532369 4.06185717\n",
      " 3.99839065 3.93492413 3.87145761 3.8079911  3.74452458 3.68105806\n",
      " 3.61759154 3.55412502 3.4906585  3.42719199 3.36372547 3.30025895\n",
      " 3.23679243 3.17332591 3.10985939 3.04639288 2.98292636 2.91945984\n",
      " 2.85599332 2.7925268  2.72906028 2.66559377 2.60212725 2.53866073\n",
      " 2.47519421 2.41172769 2.34826118 2.28479466 2.22132814 2.15786162\n",
      " 2.0943951  2.03092858 1.96746207 1.90399555 1.84052903 1.77706251\n",
      " 1.71359599 1.65012947 1.58666296 1.52319644 1.45972992 1.3962634\n",
      " 1.33279688 1.26933037 1.20586385 1.14239733 1.07893081 1.01546429\n",
      " 0.95199777 0.88853126 0.82506474 0.76159822 0.6981317  0.63466518\n",
      " 0.57119866 0.50773215 0.44426563 0.38079911 0.31733259 0.25386607\n",
      " 0.19039955 0.12693304 0.06346652 0.        ]\n",
      "\n",
      "Elements such that |sin(x)-cos(x)|<0.1:\n",
      "[0.76159822 0.82506474 3.87145761 3.93492413]\n",
      "\n"
     ]
    },
    {
     "data": {
      "image/png": "[encoded data removed]",
      "text/plain": [
       "<Figure size 432x288 with 1 Axes>"
      ]
     },
     "metadata": {
      "needs_background": "light"
     },
     "output_type": "display_data"
    },
    {
     "name": "stdout",
     "output_type": "stream",
     "text": [
      "The two functions are indeed very close around the filtered region (x~0.8 and x~3.8)\n"
     ]
    }
   ],
   "source": [
    "import numpy as np\n",
    "import math as m\n",
    "import matplotlib.pyplot as plt\n",
    "\n",
    "a = np.linspace(0, 2*m.pi, 100)\n",
    "\n",
    "a10 = a[9::10]\n",
    "arev = a[::-1]\n",
    "\n",
    "mask = (abs(np.sin(a)-np.cos(a)) < 0.1)\n",
    "afil = a[mask]\n",
    "\n",
    "print(\"Original array:\")\n",
    "print(str(a) + \"\\n\")\n",
    "print(\"Every 10th element:\")\n",
    "print(str(a10) + \"\\n\")\n",
    "print(\"Reversed array:\")\n",
    "print(str(arev) + \"\\n\")\n",
    "print(\"Elements such that |sin(x)-cos(x)|<0.1:\")\n",
    "print(str(afil) + \"\\n\")\n",
    "\n",
    "plt.plot(a, np.sin(a))\n",
    "plt.plot(a, np.cos(a))\n",
    "plt.show()\n",
    "\n",
    "print(\"The two functions are indeed very close around the filtered region (x~0.8 and x~3.8)\")"
   ]
  },
  {
   "cell_type": "markdown",
   "metadata": {},
   "source": [
    "## Matrices"
   ]
  },
  {
   "cell_type": "code",
   "execution_count": 8,
   "metadata": {},
   "outputs": [
    {
     "name": "stdout",
     "output_type": "stream",
     "text": [
      "Original matrix is\n",
      "[[  1   2   3   4   5   6   7   8   9  10]\n",
      " [  2   4   6   8  10  12  14  16  18  20]\n",
      " [  3   6   9  12  15  18  21  24  27  30]\n",
      " [  4   8  12  16  20  24  28  32  36  40]\n",
      " [  5  10  15  20  25  30  35  40  45  50]\n",
      " [  6  12  18  24  30  36  42  48  54  60]\n",
      " [  7  14  21  28  35  42  49  56  63  70]\n",
      " [  8  16  24  32  40  48  56  64  72  80]\n",
      " [  9  18  27  36  45  54  63  72  81  90]\n",
      " [ 10  20  30  40  50  60  70  80  90 100]]\n",
      "\n",
      "Diagonal elements are\n",
      "[  1   4   9  16  25  36  49  64  81 100]\n",
      "Sum is 385\n",
      "\n",
      "Antidiagonal elements are\n",
      "[10 18 24 28 30 30 28 24 18 10]\n",
      "\n",
      "Offset diagonal elements are\n",
      "[ 2  6 12 20 30 42 56 72 90]\n",
      "\n"
     ]
    }
   ],
   "source": [
    "import numpy as np\n",
    "\n",
    "m = np.array([[(i+1)*(j+1) for i in range(10)] for j in range(10)])\n",
    "\n",
    "#mdiag = np.trace(m)\n",
    "inc = np.arange(0, 10, 1)\n",
    "dec = inc[::-1]\n",
    "\n",
    "mdiag = m[inc, inc]\n",
    "tr = np.sum(mdiag)\n",
    "\n",
    "manti = m[dec, inc]\n",
    "\n",
    "shiftr = np.arange(0, 9, 1)\n",
    "shiftc = np.arange(1, 10, 1)\n",
    "mshift = m[shiftr, shiftc]\n",
    "print(\"Original matrix is\\n\" + str(m) + \"\\n\")\n",
    "print(\"Diagonal elements are\\n\" + str(mdiag) + \"\\nSum is \" + str(tr) + \"\\n\")\n",
    "print(\"Antidiagonal elements are\\n\" + str(manti) + \"\\n\")\n",
    "print(\"Offset diagonal elements are\\n\" + str(mshift) + \"\\n\")"
   ]
  },
  {
   "cell_type": "markdown",
   "metadata": {},
   "source": [
    "## Broadcasting"
   ]
  },
  {
   "cell_type": "code",
   "execution_count": 11,
   "metadata": {},
   "outputs": [
    {
     "name": "stdout",
     "output_type": "stream",
     "text": [
      "Distances in miles:\n",
      "[[   0  198  303  736  871 1175 1475 1544 1913 2448]\n",
      " [ 198    0  105  538  673  977 1277 1346 1715 2250]\n",
      " [ 303  105    0  433  568  872 1172 1241 1610 2145]\n",
      " [ 736  538  433    0  135  439  739  808 1177 1712]\n",
      " [ 871  673  568  135    0  304  604  673 1042 1577]\n",
      " [1175  977  872  439  304    0  300  369  738 1273]\n",
      " [1475 1277 1172  739  604  300    0   69  438  973]\n",
      " [1544 1346 1241  808  673  369   69    0  369  904]\n",
      " [1913 1715 1610 1177 1042  738  438  369    0  535]\n",
      " [2448 2250 2145 1712 1577 1273  973  904  535    0]]\n",
      "\n",
      "Distances in kilometers:\n",
      "[[   0.    318.65  487.63 1184.48 1401.74 1890.98 2373.78 2484.83 3078.68\n",
      "  3939.67]\n",
      " [ 318.65    0.    168.98  865.83 1083.09 1572.33 2055.13 2166.18 2760.02\n",
      "  3621.02]\n",
      " [ 487.63  168.98    0.    696.85  914.11 1403.35 1886.15 1997.2  2591.04\n",
      "  3452.04]\n",
      " [1184.48  865.83  696.85    0.    217.26  706.5  1189.31 1300.35 1894.2\n",
      "  2755.2 ]\n",
      " [1401.74 1083.09  914.11  217.26    0.    489.24  972.04 1083.09 1676.94\n",
      "  2537.94]\n",
      " [1890.98 1572.33 1403.35  706.5   489.24    0.    482.8   593.85 1187.7\n",
      "  2048.69]\n",
      " [2373.78 2055.13 1886.15 1189.31  972.04  482.8     0.    111.04  704.89\n",
      "  1565.89]\n",
      " [2484.83 2166.18 1997.2  1300.35 1083.09  593.85  111.04    0.    593.85\n",
      "  1454.85]\n",
      " [3078.68 2760.02 2591.04 1894.2  1676.94 1187.7   704.89  593.85    0.\n",
      "   861.  ]\n",
      " [3939.67 3621.02 3452.04 2755.2  2537.94 2048.69 1565.89 1454.85  861.\n",
      "     0.  ]]\n",
      "\n"
     ]
    }
   ],
   "source": [
    "import numpy as np\n",
    "\n",
    "a = np.array([0, 198, 303, 736, 871, 1175, 1475, 1544, 1913, 2448])\n",
    "b = np.array([0, 198, 303, 736, 871, 1175, 1475, 1544, 1913, 2448])\n",
    "\n",
    "m = np.array([[abs(a[i]-b[j]) for j in range(10)] for i in range(10)])\n",
    "n = np.around(m*1.609344, decimals=2)\n",
    "\n",
    "print(\"Distances in miles:\")\n",
    "print(str(m) + \"\\n\")\n",
    "print(\"Distances in kilometers:\")\n",
    "print(str(n) + \"\\n\")"
   ]
  },
  {
   "cell_type": "code",
   "execution_count": null,
   "metadata": {},
   "outputs": [],
   "source": []
  }
 ],
 "metadata": {
  "kernelspec": {
   "display_name": "Python 3",
   "language": "python",
   "name": "python3"
  },
  "language_info": {
   "codemirror_mode": {
    "name": "ipython",
    "version": 3
   },
   "file_extension": ".py",
   "mimetype": "text/x-python",
   "name": "python",
   "nbconvert_exporter": "python",
   "pygments_lexer": "ipython3",
   "version": "3.8.10"
  }
 },
 "nbformat": 4,
 "nbformat_minor": 4
}
